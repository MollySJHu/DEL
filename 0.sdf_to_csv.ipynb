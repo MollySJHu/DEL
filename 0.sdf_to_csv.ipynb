{
 "cells": [
  {
   "cell_type": "code",
   "id": "initial_id",
   "metadata": {
    "collapsed": true,
    "ExecuteTime": {
     "end_time": "2025-05-04T02:57:28.280602Z",
     "start_time": "2025-05-04T02:57:05.747591Z"
    }
   },
   "source": [
    "import pandas as pd\n",
    "from rdkit import Chem\n",
    "from rdkit.Chem import PandasTools\n",
    "\n",
    "def sdf_to_csv(sdf_file, output_file, delimiter=','):\n",
    "    \"\"\"\n",
    "    Convert an SDF file to a CSV file\n",
    "    \"\"\"\n",
    "    # Convert to a pandas DataFrame\n",
    "    df = PandasTools.LoadSDF(sdf_file)\n",
    "\n",
    "    #Clean up and sanitize molecules; store SMILES info for failed sanitization\n",
    "    failed_smiles = []\n",
    "    rows_to_drop = []\n",
    "\n",
    "    for index, row in df.iterrows():\n",
    "        mol = row[\"ROMol\"]\n",
    "        try:\n",
    "            Chem.SanitizeMol(mol)\n",
    "        except:\n",
    "            failed_smiles.append(Chem.MolToSmiles(mol))\n",
    "            rows_to_drop.append(index)\n",
    "            print(f\"Failed to sanitize mol at index {index}\")\n",
    "\n",
    "    # Drop the rows_to_drop, ID column since its empty and ROMol column since its not needed\n",
    "    df = df.drop(rows_to_drop, axis=0)\n",
    "    df = df.drop('ID', axis=1)\n",
    "    df = df.drop('ROMol', axis=1)\n",
    "\n",
    "    # Save the DataFrame as CSV, index is not necessary here\n",
    "    df.to_csv(output_file, sep=delimiter, index=False)\n",
    "\n",
    "    print(f\"Conversion complete! Output file: {output_file}\")\n",
    "    print(f\"The SMILES that failed to sanitize are: {failed_smiles}\")\n",
    "\n",
    "#Generate .csv for pandas handling\n",
    "sdf_file = 'Enamine_Rush-Delivery_Building_Blocks-US_258685cmpd_20250409.sdf'\n",
    "csv_file = 'Enamine_BBs.csv'\n",
    "\n",
    "sdf_to_csv(sdf_file, csv_file)\n",
    "output = pd.read_csv(\"Enamine_BBs.csv\")\n",
    "\n",
    "#Check that the document was converted appropriately and there's available data\n",
    "print(len(output))\n",
    "print(output.head())"
   ],
   "outputs": [
    {
     "name": "stderr",
     "output_type": "stream",
     "text": [
      "[22:57:09] Explicit valence for atom # 35 N greater than permitted\n",
      "[22:57:09] ERROR: Could not sanitize molecule ending on line 5797057\n",
      "[22:57:09] ERROR: Explicit valence for atom # 35 N greater than permitted\n",
      "[22:57:15] WARNING: not removing hydrogen atom without neighbors\n"
     ]
    },
    {
     "name": "stdout",
     "output_type": "stream",
     "text": [
      "Conversion complete! Output file: Enamine_BBs.csv\n",
      "The SMILES that failed to sanitize are: []\n",
      "258684\n",
      "    Catalog_ID                                         IUPAC Name  \\\n",
      "0  EN300-07843  2-(2-ethoxy-4-formylphenoxy)-N,N-dimethylpropa...   \n",
      "1  EN300-04783  4-[2-(3,4-dichlorophenyl)-2-oxoethoxy]-3-metho...   \n",
      "2  EN300-04785  2-[(1-methyl-1H-1,3-benzodiazol-2-yl)amino]eth...   \n",
      "3  EN300-56168                     4-chloro-2-methoxybenzoic acid   \n",
      "4  EN300-04309  3-[4-(acetyloxy)phenyl]-2-(1,3-dioxo-2,3-dihyd...   \n",
      "\n",
      "           CAS  purity     MDLNUMBER   LogP  \\\n",
      "0  733030-83-6    95.0  MFCD04635872  1.479   \n",
      "1  723333-45-7    95.0  MFCD03960564  3.816   \n",
      "2   57262-39-2    95.0  MFCD01136088  1.339   \n",
      "3   57479-70-6    95.0  MFCD00002532  2.346   \n",
      "4  345585-35-5    95.0  MFCD03950738  1.957   \n",
      "\n",
      "                                                URL avail_US_100mg  \\\n",
      "0  https://www.enaminestore.com/catalog/EN300-07843              X   \n",
      "1  https://www.enaminestore.com/catalog/EN300-04783              X   \n",
      "2  https://www.enaminestore.com/catalog/EN300-04785              X   \n",
      "3  https://www.enaminestore.com/catalog/EN300-56168              X   \n",
      "4  https://www.enaminestore.com/catalog/EN300-04309              X   \n",
      "\n",
      "  avail_US_250mg avail_US_1g avail_US_2_5g       MP avail_US_5g avail_US_10g  \\\n",
      "0              X           X             X      NaN         NaN          NaN   \n",
      "1              X           X           NaN  137-138         NaN          NaN   \n",
      "2              X           X             X  138-139           X          NaN   \n",
      "3              X           X             X  138-140           X            X   \n",
      "4              X           X           NaN      NaN         NaN          NaN   \n",
      "\n",
      "  avail_US_25g avail_US_50g avail_US_100g  \n",
      "0          NaN          NaN           NaN  \n",
      "1          NaN          NaN           NaN  \n",
      "2          NaN          NaN           NaN  \n",
      "3          NaN          NaN           NaN  \n",
      "4          NaN          NaN           NaN  \n"
     ]
    },
    {
     "name": "stderr",
     "output_type": "stream",
     "text": [
      "/var/folders/29/487m8xqn0256n6ycxw46lby00000gn/T/ipykernel_86824/1040257985.py:41: DtypeWarning: Columns (15,16) have mixed types. Specify dtype option on import or set low_memory=False.\n",
      "  output = pd.read_csv(\"Enamine_BBs.csv\")\n"
     ]
    }
   ],
   "execution_count": 3
  }
 ],
 "metadata": {
  "kernelspec": {
   "display_name": "Python 3",
   "language": "python",
   "name": "python3"
  },
  "language_info": {
   "codemirror_mode": {
    "name": "ipython",
    "version": 2
   },
   "file_extension": ".py",
   "mimetype": "text/x-python",
   "name": "python",
   "nbconvert_exporter": "python",
   "pygments_lexer": "ipython2",
   "version": "2.7.6"
  }
 },
 "nbformat": 4,
 "nbformat_minor": 5
}
